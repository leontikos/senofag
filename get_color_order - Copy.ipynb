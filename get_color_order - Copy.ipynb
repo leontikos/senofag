{
 "cells": [
  {
   "cell_type": "code",
   "execution_count": 14,
   "metadata": {
    "collapsed": true
   },
   "outputs": [],
   "source": [
    "import numpy as np\n",
    "import pandas as pd\n",
    "import os\n",
    "pth = r'D:\\Google Drive\\! PhD Sense of Agency\\EKSPERYMENT-LC\\NEW DATA'\n",
    "fl = 's10new.txt'\n",
    "fullf = os.path.join(pth, fl)"
   ]
  },
  {
   "cell_type": "code",
   "execution_count": 15,
   "metadata": {},
   "outputs": [
    {
     "data": {
      "text/html": [
       "<div>\n",
       "<style>\n",
       "    .dataframe thead tr:only-child th {\n",
       "        text-align: right;\n",
       "    }\n",
       "\n",
       "    .dataframe thead th {\n",
       "        text-align: left;\n",
       "    }\n",
       "\n",
       "    .dataframe tbody tr th {\n",
       "        vertical-align: top;\n",
       "    }\n",
       "</style>\n",
       "<table border=\"1\" class=\"dataframe\">\n",
       "  <thead>\n",
       "    <tr style=\"text-align: right;\">\n",
       "      <th></th>\n",
       "      <th>Unnamed: 0</th>\n",
       "      <th>Eprime.Level</th>\n",
       "      <th>Eprime.LevelName</th>\n",
       "      <th>Eprime.Basename</th>\n",
       "      <th>Eprime.FrameNumber</th>\n",
       "      <th>Procedure</th>\n",
       "      <th>Running</th>\n",
       "      <th>VersionPersist</th>\n",
       "      <th>LevelName</th>\n",
       "      <th>Experiment</th>\n",
       "      <th>...</th>\n",
       "      <th>TBox3</th>\n",
       "      <th>TBox4</th>\n",
       "      <th>TBox5</th>\n",
       "      <th>TBox6</th>\n",
       "      <th>PracticeMode</th>\n",
       "      <th>BlockNumber</th>\n",
       "      <th>NextBlock0.RESP</th>\n",
       "      <th>NextBlock.RESP</th>\n",
       "      <th>StudioVersion</th>\n",
       "      <th>ExperimentVersion</th>\n",
       "    </tr>\n",
       "  </thead>\n",
       "  <tbody>\n",
       "    <tr>\n",
       "      <th>0</th>\n",
       "      <td>1</td>\n",
       "      <td>1</td>\n",
       "      <td>Header_</td>\n",
       "      <td>1 ver1_main_procedure-10-1</td>\n",
       "      <td>1</td>\n",
       "      <td>Header</td>\n",
       "      <td>Header</td>\n",
       "      <td>1.0</td>\n",
       "      <td>LogLevel10</td>\n",
       "      <td>1 ver1_main_procedure</td>\n",
       "      <td>...</td>\n",
       "      <td>NaN</td>\n",
       "      <td>NaN</td>\n",
       "      <td>NaN</td>\n",
       "      <td>NaN</td>\n",
       "      <td>NaN</td>\n",
       "      <td>NaN</td>\n",
       "      <td>NaN</td>\n",
       "      <td>NaN</td>\n",
       "      <td>NaN</td>\n",
       "      <td>NaN</td>\n",
       "    </tr>\n",
       "    <tr>\n",
       "      <th>1</th>\n",
       "      <td>2</td>\n",
       "      <td>2</td>\n",
       "      <td>InstrList_1</td>\n",
       "      <td>1 ver1_main_procedure-10-1</td>\n",
       "      <td>2</td>\n",
       "      <td>InstrProc</td>\n",
       "      <td>InstrList</td>\n",
       "      <td>NaN</td>\n",
       "      <td>NaN</td>\n",
       "      <td>NaN</td>\n",
       "      <td>...</td>\n",
       "      <td>NaN</td>\n",
       "      <td>NaN</td>\n",
       "      <td>NaN</td>\n",
       "      <td>NaN</td>\n",
       "      <td>NaN</td>\n",
       "      <td>NaN</td>\n",
       "      <td>NaN</td>\n",
       "      <td>NaN</td>\n",
       "      <td>NaN</td>\n",
       "      <td>NaN</td>\n",
       "    </tr>\n",
       "    <tr>\n",
       "      <th>2</th>\n",
       "      <td>3</td>\n",
       "      <td>3</td>\n",
       "      <td>TrainingList1_3</td>\n",
       "      <td>1 ver1_main_procedure-10-1</td>\n",
       "      <td>3</td>\n",
       "      <td>TrainProc</td>\n",
       "      <td>TrainingList1</td>\n",
       "      <td>NaN</td>\n",
       "      <td>NaN</td>\n",
       "      <td>NaN</td>\n",
       "      <td>...</td>\n",
       "      <td>NaN</td>\n",
       "      <td>NaN</td>\n",
       "      <td>NaN</td>\n",
       "      <td>NaN</td>\n",
       "      <td>NaN</td>\n",
       "      <td>NaN</td>\n",
       "      <td>NaN</td>\n",
       "      <td>NaN</td>\n",
       "      <td>NaN</td>\n",
       "      <td>NaN</td>\n",
       "    </tr>\n",
       "    <tr>\n",
       "      <th>3</th>\n",
       "      <td>4</td>\n",
       "      <td>3</td>\n",
       "      <td>TrainingList1_2</td>\n",
       "      <td>1 ver1_main_procedure-10-1</td>\n",
       "      <td>4</td>\n",
       "      <td>TrainProc</td>\n",
       "      <td>TrainingList1</td>\n",
       "      <td>NaN</td>\n",
       "      <td>NaN</td>\n",
       "      <td>NaN</td>\n",
       "      <td>...</td>\n",
       "      <td>NaN</td>\n",
       "      <td>NaN</td>\n",
       "      <td>NaN</td>\n",
       "      <td>NaN</td>\n",
       "      <td>NaN</td>\n",
       "      <td>NaN</td>\n",
       "      <td>NaN</td>\n",
       "      <td>NaN</td>\n",
       "      <td>NaN</td>\n",
       "      <td>NaN</td>\n",
       "    </tr>\n",
       "    <tr>\n",
       "      <th>4</th>\n",
       "      <td>5</td>\n",
       "      <td>3</td>\n",
       "      <td>TrainingList1_2</td>\n",
       "      <td>1 ver1_main_procedure-10-1</td>\n",
       "      <td>5</td>\n",
       "      <td>TrainProc</td>\n",
       "      <td>TrainingList1</td>\n",
       "      <td>NaN</td>\n",
       "      <td>NaN</td>\n",
       "      <td>NaN</td>\n",
       "      <td>...</td>\n",
       "      <td>NaN</td>\n",
       "      <td>NaN</td>\n",
       "      <td>NaN</td>\n",
       "      <td>NaN</td>\n",
       "      <td>NaN</td>\n",
       "      <td>NaN</td>\n",
       "      <td>NaN</td>\n",
       "      <td>NaN</td>\n",
       "      <td>NaN</td>\n",
       "      <td>NaN</td>\n",
       "    </tr>\n",
       "  </tbody>\n",
       "</table>\n",
       "<p>5 rows × 131 columns</p>\n",
       "</div>"
      ],
      "text/plain": [
       "   Unnamed: 0  Eprime.Level Eprime.LevelName             Eprime.Basename  \\\n",
       "0           1             1          Header_  1 ver1_main_procedure-10-1   \n",
       "1           2             2      InstrList_1  1 ver1_main_procedure-10-1   \n",
       "2           3             3  TrainingList1_3  1 ver1_main_procedure-10-1   \n",
       "3           4             3  TrainingList1_2  1 ver1_main_procedure-10-1   \n",
       "4           5             3  TrainingList1_2  1 ver1_main_procedure-10-1   \n",
       "\n",
       "   Eprime.FrameNumber  Procedure        Running  VersionPersist   LevelName  \\\n",
       "0                   1     Header         Header             1.0  LogLevel10   \n",
       "1                   2  InstrProc      InstrList             NaN         NaN   \n",
       "2                   3  TrainProc  TrainingList1             NaN         NaN   \n",
       "3                   4  TrainProc  TrainingList1             NaN         NaN   \n",
       "4                   5  TrainProc  TrainingList1             NaN         NaN   \n",
       "\n",
       "              Experiment        ...         TBox3 TBox4 TBox5 TBox6  \\\n",
       "0  1 ver1_main_procedure        ...           NaN   NaN   NaN   NaN   \n",
       "1                    NaN        ...           NaN   NaN   NaN   NaN   \n",
       "2                    NaN        ...           NaN   NaN   NaN   NaN   \n",
       "3                    NaN        ...           NaN   NaN   NaN   NaN   \n",
       "4                    NaN        ...           NaN   NaN   NaN   NaN   \n",
       "\n",
       "   PracticeMode  BlockNumber  NextBlock0.RESP  NextBlock.RESP StudioVersion  \\\n",
       "0           NaN          NaN              NaN             NaN           NaN   \n",
       "1           NaN          NaN              NaN             NaN           NaN   \n",
       "2           NaN          NaN              NaN             NaN           NaN   \n",
       "3           NaN          NaN              NaN             NaN           NaN   \n",
       "4           NaN          NaN              NaN             NaN           NaN   \n",
       "\n",
       "   ExperimentVersion  \n",
       "0                NaN  \n",
       "1                NaN  \n",
       "2                NaN  \n",
       "3                NaN  \n",
       "4                NaN  \n",
       "\n",
       "[5 rows x 131 columns]"
      ]
     },
     "execution_count": 15,
     "metadata": {},
     "output_type": "execute_result"
    }
   ],
   "source": [
    "d = pd.read_table(fullf, sep = '\\t')\n",
    "d.head(5)"
   ]
  },
  {
   "cell_type": "code",
   "execution_count": 16,
   "metadata": {},
   "outputs": [
    {
     "data": {
      "text/html": [
       "<div>\n",
       "<style>\n",
       "    .dataframe thead tr:only-child th {\n",
       "        text-align: right;\n",
       "    }\n",
       "\n",
       "    .dataframe thead th {\n",
       "        text-align: left;\n",
       "    }\n",
       "\n",
       "    .dataframe tbody tr th {\n",
       "        vertical-align: top;\n",
       "    }\n",
       "</style>\n",
       "<table border=\"1\" class=\"dataframe\">\n",
       "  <thead>\n",
       "    <tr style=\"text-align: right;\">\n",
       "      <th></th>\n",
       "      <th>Unnamed: 0</th>\n",
       "      <th>Eprime.Level</th>\n",
       "      <th>Eprime.LevelName</th>\n",
       "      <th>Eprime.Basename</th>\n",
       "      <th>Eprime.FrameNumber</th>\n",
       "      <th>Procedure</th>\n",
       "      <th>Running</th>\n",
       "      <th>VersionPersist</th>\n",
       "      <th>LevelName</th>\n",
       "      <th>Experiment</th>\n",
       "      <th>...</th>\n",
       "      <th>TBox3</th>\n",
       "      <th>TBox4</th>\n",
       "      <th>TBox5</th>\n",
       "      <th>TBox6</th>\n",
       "      <th>PracticeMode</th>\n",
       "      <th>BlockNumber</th>\n",
       "      <th>NextBlock0.RESP</th>\n",
       "      <th>NextBlock.RESP</th>\n",
       "      <th>StudioVersion</th>\n",
       "      <th>ExperimentVersion</th>\n",
       "    </tr>\n",
       "  </thead>\n",
       "  <tbody>\n",
       "    <tr>\n",
       "      <th>84</th>\n",
       "      <td>85</td>\n",
       "      <td>3</td>\n",
       "      <td>Ocena_1</td>\n",
       "      <td>1 ver1_main_procedure-10-1</td>\n",
       "      <td>85</td>\n",
       "      <td>DragProc</td>\n",
       "      <td>Ocena</td>\n",
       "      <td>NaN</td>\n",
       "      <td>NaN</td>\n",
       "      <td>NaN</td>\n",
       "      <td>...</td>\n",
       "      <td>NaN</td>\n",
       "      <td>NaN</td>\n",
       "      <td>NaN</td>\n",
       "      <td>NaN</td>\n",
       "      <td>NaN</td>\n",
       "      <td>NaN</td>\n",
       "      <td>NaN</td>\n",
       "      <td>NaN</td>\n",
       "      <td>NaN</td>\n",
       "      <td>NaN</td>\n",
       "    </tr>\n",
       "    <tr>\n",
       "      <th>85</th>\n",
       "      <td>86</td>\n",
       "      <td>3</td>\n",
       "      <td>Ocena_2</td>\n",
       "      <td>1 ver1_main_procedure-10-1</td>\n",
       "      <td>86</td>\n",
       "      <td>EnterProc</td>\n",
       "      <td>Ocena</td>\n",
       "      <td>NaN</td>\n",
       "      <td>NaN</td>\n",
       "      <td>NaN</td>\n",
       "      <td>...</td>\n",
       "      <td>45.0</td>\n",
       "      <td>47</td>\n",
       "      <td>75.0</td>\n",
       "      <td>99.0</td>\n",
       "      <td>NaN</td>\n",
       "      <td>NaN</td>\n",
       "      <td>NaN</td>\n",
       "      <td>NaN</td>\n",
       "      <td>NaN</td>\n",
       "      <td>NaN</td>\n",
       "    </tr>\n",
       "  </tbody>\n",
       "</table>\n",
       "<p>2 rows × 131 columns</p>\n",
       "</div>"
      ],
      "text/plain": [
       "    Unnamed: 0  Eprime.Level Eprime.LevelName             Eprime.Basename  \\\n",
       "84          85             3          Ocena_1  1 ver1_main_procedure-10-1   \n",
       "85          86             3          Ocena_2  1 ver1_main_procedure-10-1   \n",
       "\n",
       "    Eprime.FrameNumber  Procedure Running  VersionPersist LevelName  \\\n",
       "84                  85   DragProc   Ocena             NaN       NaN   \n",
       "85                  86  EnterProc   Ocena             NaN       NaN   \n",
       "\n",
       "   Experiment        ...         TBox3 TBox4 TBox5 TBox6  PracticeMode  \\\n",
       "84        NaN        ...           NaN   NaN   NaN   NaN           NaN   \n",
       "85        NaN        ...          45.0    47  75.0  99.0           NaN   \n",
       "\n",
       "    BlockNumber  NextBlock0.RESP  NextBlock.RESP StudioVersion  \\\n",
       "84          NaN              NaN             NaN           NaN   \n",
       "85          NaN              NaN             NaN           NaN   \n",
       "\n",
       "    ExperimentVersion  \n",
       "84                NaN  \n",
       "85                NaN  \n",
       "\n",
       "[2 rows x 131 columns]"
      ]
     },
     "execution_count": 16,
     "metadata": {},
     "output_type": "execute_result"
    }
   ],
   "source": [
    "checkColumn = 'GoalRespName1'\n",
    "col = d.loc[d['Block'] == 2, checkColumn]\n",
    "\n",
    "def ischar(x):\n",
    "        return isinstance(x, str)\n",
    "\n",
    "ind = col.map(ischar)\n",
    "df = d.loc[d['Block'] == 2, :].loc[ind,:]\n",
    "df"
   ]
  },
  {
   "cell_type": "code",
   "execution_count": 17,
   "metadata": {
    "collapsed": true
   },
   "outputs": [],
   "source": [
    "# sprawdzamy jak oszacowana zostala sprawczość dla kolorów\n",
    "tbox = ['TBox{}'.format(i) for i in range(1, 7)]\n",
    "tb = df.loc[:, tbox].iloc[1, :].values\n",
    "ratings = tb.astype(\"int\")"
   ]
  },
  {
   "cell_type": "code",
   "execution_count": 18,
   "metadata": {},
   "outputs": [
    {
     "data": {
      "text/plain": [
       "['r', 'p', 'b', 'o', 'y', 'g']"
      ]
     },
     "execution_count": 18,
     "metadata": {},
     "output_type": "execute_result"
    }
   ],
   "source": [
    "col = ['GoalRespName{}'.format(i) for i in range(1, 7)]\n",
    "coldf = d.loc[d['Block'] == 2, col].loc[ind,:].iloc[0]\n",
    "sorted_colors = [x.split('.')[0].split('_')[1][0] for x in coldf]\n",
    "sorted_colors"
   ]
  },
  {
   "cell_type": "code",
   "execution_count": 23,
   "metadata": {
    "collapsed": true
   },
   "outputs": [],
   "source": [
    "import superskrypt as sp"
   ]
  },
  {
   "cell_type": "code",
   "execution_count": 20,
   "metadata": {},
   "outputs": [
    {
     "data": {
      "text/plain": [
       "{2.0: {'b': 'incomp_l',\n",
       "  'g': 'neut_r',\n",
       "  'o': 'neut_l',\n",
       "  'p': 'comp_r',\n",
       "  'r': 'comp_l',\n",
       "  'y': 'incomp_r'},\n",
       " 3.0: {'b': 'neut_r',\n",
       "  'g': 'incomp_r',\n",
       "  'o': 'comp_l',\n",
       "  'p': 'neut_l',\n",
       "  'r': 'incomp_l',\n",
       "  'y': 'comp_r'},\n",
       " 4.0: {'b': 'incomp_r',\n",
       "  'g': 'comp_r',\n",
       "  'o': 'incomp_l',\n",
       "  'p': 'comp_l',\n",
       "  'r': 'neut_r',\n",
       "  'y': 'neut_l'},\n",
       " 5.0: {'b': 'comp_r',\n",
       "  'g': 'neut_l',\n",
       "  'o': 'neut_r',\n",
       "  'p': 'incomp_l',\n",
       "  'r': 'incomp_r',\n",
       "  'y': 'comp_l'},\n",
       " 6.0: {'b': 'neut_l',\n",
       "  'g': 'comp_l',\n",
       "  'o': 'incomp_r',\n",
       "  'p': 'neut_r',\n",
       "  'r': 'comp_r',\n",
       "  'y': 'incomp_l'},\n",
       " 7.0: {'b': 'comp_l',\n",
       "  'g': 'incomp_l',\n",
       "  'o': 'comp_r',\n",
       "  'p': 'incomp_r',\n",
       "  'r': 'neut_l',\n",
       "  'y': 'neut_r'}}"
      ]
     },
     "execution_count": 20,
     "metadata": {},
     "output_type": "execute_result"
    }
   ],
   "source": [
    "coldict = sp.all_colors(d)\n",
    "coldict"
   ]
  },
  {
   "cell_type": "code",
   "execution_count": 21,
   "metadata": {},
   "outputs": [
    {
     "name": "stdout",
     "output_type": "stream",
     "text": [
      "comp_l : 5\n",
      "comp_r : 25\n",
      "incomp_l : 45\n",
      "neut_l : 47\n",
      "incomp_r : 75\n",
      "neut_r : 99\n"
     ]
    }
   ],
   "source": [
    "howsorted = [coldict[2][x] for x in sorted_colors]\n",
    "for r, c in zip(ratings, howsorted):\n",
    "    print('{} : {}'.format(c, r))"
   ]
  },
  {
   "cell_type": "code",
   "execution_count": 10,
   "metadata": {},
   "outputs": [
    {
     "ename": "NameError",
     "evalue": "name 'reload' is not defined",
     "output_type": "error",
     "traceback": [
      "\u001b[1;31m---------------------------------------------------------------------------\u001b[0m",
      "\u001b[1;31mNameError\u001b[0m                                 Traceback (most recent call last)",
      "\u001b[1;32m<ipython-input-10-986d0138b2e0>\u001b[0m in \u001b[0;36m<module>\u001b[1;34m()\u001b[0m\n\u001b[1;32m----> 1\u001b[1;33m \u001b[0mreload\u001b[0m\u001b[1;33m(\u001b[0m\u001b[0msp\u001b[0m\u001b[1;33m)\u001b[0m\u001b[1;33m\u001b[0m\u001b[0m\n\u001b[0m",
      "\u001b[1;31mNameError\u001b[0m: name 'reload' is not defined"
     ]
    }
   ],
   "source": [
    "reload(sp)"
   ]
  },
  {
   "cell_type": "code",
   "execution_count": 25,
   "metadata": {},
   "outputs": [
    {
     "ename": "ValueError",
     "evalue": "invalid literal for int() with base 10: '--'",
     "output_type": "error",
     "traceback": [
      "\u001b[1;31m---------------------------------------------------------------------------\u001b[0m",
      "\u001b[1;31mValueError\u001b[0m                                Traceback (most recent call last)",
      "\u001b[1;32m<ipython-input-25-c83b1c0fe51f>\u001b[0m in \u001b[0;36m<module>\u001b[1;34m()\u001b[0m\n\u001b[1;32m----> 1\u001b[1;33m \u001b[0minf\u001b[0m \u001b[1;33m=\u001b[0m \u001b[0msp\u001b[0m\u001b[1;33m.\u001b[0m\u001b[0mget_color_info\u001b[0m\u001b[1;33m(\u001b[0m\u001b[0md\u001b[0m\u001b[1;33m)\u001b[0m\u001b[1;33m\u001b[0m\u001b[0m\n\u001b[0m\u001b[0;32m      2\u001b[0m \u001b[0minf\u001b[0m\u001b[1;33m\u001b[0m\u001b[0m\n",
      "\u001b[1;32mD:\\Google Drive\\! PhD Sense of Agency\\EKSPERYMENT-LC\\senofag\\notebooks\\superskrypt.py\u001b[0m in \u001b[0;36mget_color_info\u001b[1;34m(df)\u001b[0m\n\u001b[0;32m    125\u001b[0m \u001b[1;33m\u001b[0m\u001b[0m\n\u001b[0;32m    126\u001b[0m     \u001b[0mblocks\u001b[0m \u001b[1;33m=\u001b[0m \u001b[0mget_block_list\u001b[0m\u001b[1;33m(\u001b[0m\u001b[0mdf\u001b[0m\u001b[1;33m)\u001b[0m\u001b[1;33m\u001b[0m\u001b[0m\n\u001b[1;32m--> 127\u001b[1;33m     \u001b[0mratings\u001b[0m \u001b[1;33m=\u001b[0m \u001b[1;33m{\u001b[0m\u001b[0mb\u001b[0m \u001b[1;33m:\u001b[0m \u001b[0mget_sorted_colors\u001b[0m\u001b[1;33m(\u001b[0m\u001b[0mdf\u001b[0m\u001b[1;33m,\u001b[0m \u001b[0mb\u001b[0m\u001b[1;33m)\u001b[0m \u001b[1;32mfor\u001b[0m \u001b[0mb\u001b[0m \u001b[1;32min\u001b[0m \u001b[0mblocks\u001b[0m\u001b[1;33m}\u001b[0m\u001b[1;33m\u001b[0m\u001b[0m\n\u001b[0m\u001b[0;32m    128\u001b[0m     \u001b[1;31m# howsorted = [coldict[2][x] for x in sorted_colors]\u001b[0m\u001b[1;33m\u001b[0m\u001b[1;33m\u001b[0m\u001b[0m\n\u001b[0;32m    129\u001b[0m \u001b[1;33m\u001b[0m\u001b[0m\n",
      "\u001b[1;32mD:\\Google Drive\\! PhD Sense of Agency\\EKSPERYMENT-LC\\senofag\\notebooks\\superskrypt.py\u001b[0m in \u001b[0;36m<dictcomp>\u001b[1;34m(.0)\u001b[0m\n\u001b[0;32m    125\u001b[0m \u001b[1;33m\u001b[0m\u001b[0m\n\u001b[0;32m    126\u001b[0m     \u001b[0mblocks\u001b[0m \u001b[1;33m=\u001b[0m \u001b[0mget_block_list\u001b[0m\u001b[1;33m(\u001b[0m\u001b[0mdf\u001b[0m\u001b[1;33m)\u001b[0m\u001b[1;33m\u001b[0m\u001b[0m\n\u001b[1;32m--> 127\u001b[1;33m     \u001b[0mratings\u001b[0m \u001b[1;33m=\u001b[0m \u001b[1;33m{\u001b[0m\u001b[0mb\u001b[0m \u001b[1;33m:\u001b[0m \u001b[0mget_sorted_colors\u001b[0m\u001b[1;33m(\u001b[0m\u001b[0mdf\u001b[0m\u001b[1;33m,\u001b[0m \u001b[0mb\u001b[0m\u001b[1;33m)\u001b[0m \u001b[1;32mfor\u001b[0m \u001b[0mb\u001b[0m \u001b[1;32min\u001b[0m \u001b[0mblocks\u001b[0m\u001b[1;33m}\u001b[0m\u001b[1;33m\u001b[0m\u001b[0m\n\u001b[0m\u001b[0;32m    128\u001b[0m     \u001b[1;31m# howsorted = [coldict[2][x] for x in sorted_colors]\u001b[0m\u001b[1;33m\u001b[0m\u001b[1;33m\u001b[0m\u001b[0m\n\u001b[0;32m    129\u001b[0m \u001b[1;33m\u001b[0m\u001b[0m\n",
      "\u001b[1;32mD:\\Google Drive\\! PhD Sense of Agency\\EKSPERYMENT-LC\\senofag\\notebooks\\superskrypt.py\u001b[0m in \u001b[0;36mget_sorted_colors\u001b[1;34m(df, blocknum)\u001b[0m\n\u001b[0;32m    111\u001b[0m     \u001b[0mtbox\u001b[0m \u001b[1;33m=\u001b[0m \u001b[1;33m[\u001b[0m\u001b[1;34m'TBox{}'\u001b[0m\u001b[1;33m.\u001b[0m\u001b[0mformat\u001b[0m\u001b[1;33m(\u001b[0m\u001b[0mi\u001b[0m\u001b[1;33m)\u001b[0m \u001b[1;32mfor\u001b[0m \u001b[0mi\u001b[0m \u001b[1;32min\u001b[0m \u001b[0mrange\u001b[0m\u001b[1;33m(\u001b[0m\u001b[1;36m1\u001b[0m\u001b[1;33m,\u001b[0m \u001b[1;36m7\u001b[0m\u001b[1;33m)\u001b[0m\u001b[1;33m]\u001b[0m\u001b[1;33m\u001b[0m\u001b[0m\n\u001b[0;32m    112\u001b[0m     \u001b[0mtb\u001b[0m \u001b[1;33m=\u001b[0m \u001b[0mtempdf\u001b[0m\u001b[1;33m.\u001b[0m\u001b[0mloc\u001b[0m\u001b[1;33m[\u001b[0m\u001b[1;33m:\u001b[0m\u001b[1;33m,\u001b[0m \u001b[0mtbox\u001b[0m\u001b[1;33m]\u001b[0m\u001b[1;33m.\u001b[0m\u001b[0miloc\u001b[0m\u001b[1;33m[\u001b[0m\u001b[1;36m1\u001b[0m\u001b[1;33m,\u001b[0m \u001b[1;33m:\u001b[0m\u001b[1;33m]\u001b[0m\u001b[1;33m.\u001b[0m\u001b[0mvalues\u001b[0m\u001b[1;33m\u001b[0m\u001b[0m\n\u001b[1;32m--> 113\u001b[1;33m     \u001b[0mratings\u001b[0m \u001b[1;33m=\u001b[0m \u001b[0mtb\u001b[0m\u001b[1;33m.\u001b[0m\u001b[0mastype\u001b[0m\u001b[1;33m(\u001b[0m\u001b[1;34m\"int\"\u001b[0m\u001b[1;33m)\u001b[0m\u001b[1;33m\u001b[0m\u001b[0m\n\u001b[0m\u001b[0;32m    114\u001b[0m \u001b[1;33m\u001b[0m\u001b[0m\n\u001b[0;32m    115\u001b[0m     \u001b[0mcol\u001b[0m \u001b[1;33m=\u001b[0m \u001b[1;33m[\u001b[0m\u001b[1;34m'GoalRespName{}'\u001b[0m\u001b[1;33m.\u001b[0m\u001b[0mformat\u001b[0m\u001b[1;33m(\u001b[0m\u001b[0mi\u001b[0m\u001b[1;33m)\u001b[0m \u001b[1;32mfor\u001b[0m \u001b[0mi\u001b[0m \u001b[1;32min\u001b[0m \u001b[0mrange\u001b[0m\u001b[1;33m(\u001b[0m\u001b[1;36m1\u001b[0m\u001b[1;33m,\u001b[0m \u001b[1;36m7\u001b[0m\u001b[1;33m)\u001b[0m\u001b[1;33m]\u001b[0m\u001b[1;33m\u001b[0m\u001b[0m\n",
      "\u001b[1;31mValueError\u001b[0m: invalid literal for int() with base 10: '--'"
     ]
    }
   ],
   "source": [
    "inf = sp.get_color_info(d)\n",
    "inf"
   ]
  },
  {
   "cell_type": "code",
   "execution_count": null,
   "metadata": {},
   "outputs": [],
   "source": [
    "newdf = pd.DataFrame(inf)\n",
    "newdf"
   ]
  },
  {
   "cell_type": "code",
   "execution_count": null,
   "metadata": {},
   "outputs": [],
   "source": [
    "newdf.mean()"
   ]
  }
 ],
 "metadata": {
  "kernelspec": {
   "display_name": "Python 3",
   "language": "python",
   "name": "python3"
  },
  "language_info": {
   "codemirror_mode": {
    "name": "ipython",
    "version": 3
   },
   "file_extension": ".py",
   "mimetype": "text/x-python",
   "name": "python",
   "nbconvert_exporter": "python",
   "pygments_lexer": "ipython3",
   "version": "3.6.1"
  }
 },
 "nbformat": 4,
 "nbformat_minor": 1
}
